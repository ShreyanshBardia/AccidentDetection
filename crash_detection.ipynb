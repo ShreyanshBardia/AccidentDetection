{
  "nbformat": 4,
  "nbformat_minor": 0,
  "metadata": {
    "colab": {
      "provenance": [],
      "gpuType": "T4"
    },
    "kernelspec": {
      "name": "python3",
      "display_name": "Python 3"
    },
    "language_info": {
      "name": "python"
    },
    "accelerator": "GPU"
  },
  "cells": [
    {
      "cell_type": "code",
      "execution_count": 1,
      "metadata": {
        "colab": {
          "base_uri": "https://localhost:8080/"
        },
        "id": "5cplHKU8heAv",
        "outputId": "52184139-403b-49f7-abaf-5c56e6d428fc"
      },
      "outputs": [
        {
          "output_type": "execute_result",
          "data": {
            "text/plain": [
              "CompletedProcess(args=['mkdir', '-p', '/content/acc/masks'], returncode=0)"
            ]
          },
          "metadata": {},
          "execution_count": 1
        }
      ],
      "source": [
        "import subprocess\n",
        "subprocess.run([\"mkdir\",\"-p\",\"/content/acc/masks\"])"
      ]
    },
    {
      "cell_type": "code",
      "source": [
        "!git clone https://github.com/ShreyanshBardia/AccidentDetection.git"
      ],
      "metadata": {
        "colab": {
          "base_uri": "https://localhost:8080/"
        },
        "id": "3hDIdmxMlwIq",
        "outputId": "a6eea47d-1189-4688-ca6b-1606cb6ae4b3"
      },
      "execution_count": 2,
      "outputs": [
        {
          "output_type": "stream",
          "name": "stdout",
          "text": [
            "Cloning into 'AccidentDetection'...\n",
            "remote: Enumerating objects: 190, done.\u001b[K\n",
            "remote: Counting objects: 100% (5/5), done.\u001b[K\n",
            "remote: Compressing objects: 100% (5/5), done.\u001b[K\n",
            "remote: Total 190 (delta 0), reused 5 (delta 0), pack-reused 185\u001b[K\n",
            "Receiving objects: 100% (190/190), 58.51 MiB | 20.50 MiB/s, done.\n",
            "Resolving deltas: 100% (17/17), done.\n"
          ]
        }
      ]
    },
    {
      "cell_type": "code",
      "source": [
        "%cd /content/AccidentDetection\n",
        "from crash import detect_crash"
      ],
      "metadata": {
        "colab": {
          "base_uri": "https://localhost:8080/"
        },
        "id": "7CSuSvosMVxS",
        "outputId": "fa6169c8-076d-47d7-cda2-88db128ebce0"
      },
      "execution_count": 3,
      "outputs": [
        {
          "output_type": "stream",
          "name": "stdout",
          "text": [
            "/content/AccidentDetection\n"
          ]
        }
      ]
    },
    {
      "cell_type": "code",
      "source": [
        "%%capture\n",
        "%cd /content/AccidentDetection/deep_sort_pytorch\n",
        "!pip install -r requirements.txt"
      ],
      "metadata": {
        "id": "e5Gfxmr0QaVc"
      },
      "execution_count": null,
      "outputs": []
    },
    {
      "cell_type": "code",
      "source": [
        "video_path = \"/content/AccidentDetection/crash.mp4\"\n",
        "output_folder = \"/content/acc/\"\n",
        "detect_crash(video_path, output_folder)"
      ],
      "metadata": {
        "colab": {
          "base_uri": "https://localhost:8080/"
        },
        "id": "4AqyJG9cjTQy",
        "outputId": "5640c9a4-956d-4f1d-85a2-db1605f9fa06"
      },
      "execution_count": 5,
      "outputs": [
        {
          "output_type": "stream",
          "name": "stdout",
          "text": [
            "A crash has occured between vehicles 1.0 and 10.0 on frame number 8.0\n",
            "_____\n",
            "A crash has occured between vehicles 1.0 and 10.0 on frame number 10.0\n",
            "_____\n",
            "A crash has occured between vehicles 1.0 and 10.0 on frame number 11.0\n",
            "_____\n",
            "Can't receive frame (stream end?). Exiting ...\n"
          ]
        }
      ]
    },
    {
      "cell_type": "markdown",
      "source": [
        "1) output.avi will be generated in `/content/acc/`"
      ],
      "metadata": {
        "id": "pqcnkw5PoEx-"
      }
    }
  ]
}